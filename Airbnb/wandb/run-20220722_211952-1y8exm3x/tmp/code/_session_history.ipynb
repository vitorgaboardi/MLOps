{
 "cells": [
  {
   "cell_type": "code",
   "execution_count": 1,
   "id": "f9778104",
   "metadata": {},
   "outputs": [],
   "source": [
    "import wandb\n",
    "import matplotlib.pyplot as plt\n",
    "import seaborn as sns\n",
    "import pandas as pd\n",
    "import numpy as np\n",
    "import tempfile\n",
    "import os\n",
    "from sklearn.model_selection import train_test_split\n",
    "from pandas_profiling import ProfileReport"
   ]
  },
  {
   "cell_type": "code",
   "execution_count": 2,
   "id": "408414d4",
   "metadata": {},
   "outputs": [
    {
     "data": {
      "text/html": [
       "Tracking run with wandb version 0.12.21"
      ],
      "text/plain": [
       "<IPython.core.display.HTML object>"
      ]
     },
     "metadata": {},
     "output_type": "display_data"
    },
    {
     "data": {
      "text/html": [
       "Run data is saved locally in <code>/home/vitor/UFRN/Tecnologia da Informação/2022.1/MLOps/Airbnb/wandb/run-20220722_211952-1y8exm3x</code>"
      ],
      "text/plain": [
       "<IPython.core.display.HTML object>"
      ]
     },
     "metadata": {},
     "output_type": "display_data"
    },
    {
     "data": {
      "text/html": [
       "Syncing run <strong><a href=\"https://wandb.ai/vitor-gabo/airbnb/runs/1y8exm3x\" target=\"_blank\">glorious-mountain-9</a></strong> to <a href=\"https://wandb.ai/vitor-gabo/airbnb\" target=\"_blank\">Weights & Biases</a> (<a href=\"https://wandb.me/run\" target=\"_blank\">docs</a>)<br/>"
      ],
      "text/plain": [
       "<IPython.core.display.HTML object>"
      ]
     },
     "metadata": {},
     "output_type": "display_data"
    }
   ],
   "source": [
    "# save_code tracking all changes of the notebook and sync with Wandb\n",
    "run = wandb.init(project=\"airbnb\", save_code=True)"
   ]
  },
  {
   "cell_type": "code",
   "execution_count": 3,
   "id": "40b9ce39",
   "metadata": {},
   "outputs": [],
   "source": [
    "# donwload the latest version of artifact raw_data.csv\n",
    "artifact = run.use_artifact(\"airbnb/raw_data.csv:latest\")\n",
    "\n",
    "# create a dataframe from the artifact\n",
    "df = pd.read_csv(artifact.file())"
   ]
  },
  {
   "cell_type": "code",
   "execution_count": 4,
   "id": "986c35cf",
   "metadata": {},
   "outputs": [
    {
     "name": "stdout",
     "output_type": "stream",
     "text": [
      "      id                         listing_url       scrape_id last_scraped  \\\n",
      "0  17878  https://www.airbnb.com/rooms/17878  20211224070558   2021-12-25   \n",
      "1  24480  https://www.airbnb.com/rooms/24480  20211224070558   2021-12-25   \n",
      "2  25026  https://www.airbnb.com/rooms/25026  20211224070558   2021-12-25   \n",
      "3  35636  https://www.airbnb.com/rooms/35636  20211224070558   2021-12-26   \n",
      "4  35764  https://www.airbnb.com/rooms/35764  20211224070558   2021-12-25   \n",
      "\n",
      "                                                name  \\\n",
      "0  Very Nice 2Br in Copacabana w. balcony, fast WiFi   \n",
      "1   Nice and cozy near Ipanema Beach, w/ home office   \n",
      "2          Beautiful Modern Decorated Studio in Copa   \n",
      "3                   Cosy flat close to Ipanema beach   \n",
      "4     COPACABANA SEA BREEZE  -  RIO - 20 X Superhost   \n",
      "\n",
      "                                         description  \\\n",
      "0  Discounts for long term stays. <br />- Large b...   \n",
      "1  My studio is located in the best of Ipanema, t...   \n",
      "2  Our apartment is a little gem, everyone loves ...   \n",
      "3  This cosy apartment  is just a few steps away ...   \n",
      "4  Our newly renovated studio is located in the b...   \n",
      "\n",
      "                               neighborhood_overview  \\\n",
      "0  This is the one of the bests spots in Rio. Bec...   \n",
      "1  The beach, the lagoon, Ipanema is a great loca...   \n",
      "2  Copacabana is a lively neighborhood and the ap...   \n",
      "3  The  apartment street is very quiet and safe ....   \n",
      "4  Our guests will experience living with a local...   \n",
      "\n",
      "                                         picture_url  host_id  \\\n",
      "0  https://a0.muscache.com/pictures/65320518/3069...    68997   \n",
      "1  https://a0.muscache.com/pictures/11955612/b28e...    99249   \n",
      "2  https://a0.muscache.com/pictures/3003965/68ebb...   102840   \n",
      "3  https://a0.muscache.com/pictures/20009355/38b6...   153232   \n",
      "4  https://a0.muscache.com/pictures/23782972/1d3e...   153691   \n",
      "\n",
      "                                   host_url  ... review_scores_communication  \\\n",
      "0   https://www.airbnb.com/users/show/68997  ...                        4.90   \n",
      "1   https://www.airbnb.com/users/show/99249  ...                        4.90   \n",
      "2  https://www.airbnb.com/users/show/102840  ...                        4.90   \n",
      "3  https://www.airbnb.com/users/show/153232  ...                        4.88   \n",
      "4  https://www.airbnb.com/users/show/153691  ...                        4.94   \n",
      "\n",
      "  review_scores_location review_scores_value license instant_bookable  \\\n",
      "0                   4.76                4.66     NaN                f   \n",
      "1                   4.97                4.58     NaN                f   \n",
      "2                   4.81                4.56     NaN                f   \n",
      "3                   4.90                4.65     NaN                f   \n",
      "4                   4.94                4.87     NaN                f   \n",
      "\n",
      "  calculated_host_listings_count calculated_host_listings_count_entire_homes  \\\n",
      "0                              1                                           1   \n",
      "1                              1                                           1   \n",
      "2                              1                                           1   \n",
      "3                              1                                           1   \n",
      "4                              1                                           1   \n",
      "\n",
      "  calculated_host_listings_count_private_rooms  \\\n",
      "0                                            0   \n",
      "1                                            0   \n",
      "2                                            0   \n",
      "3                                            0   \n",
      "4                                            0   \n",
      "\n",
      "  calculated_host_listings_count_shared_rooms reviews_per_month  \n",
      "0                                           0              1.92  \n",
      "1                                           0              0.62  \n",
      "2                                           0              1.69  \n",
      "3                                           0              1.82  \n",
      "4                                           0              2.76  \n",
      "\n",
      "[5 rows x 74 columns]"
     ]
    }
   ],
   "source": [
    "df.head()"
   ]
  },
  {
   "cell_type": "code",
   "execution_count": 5,
   "id": "c14e620a",
   "metadata": {},
   "outputs": [],
   "source": [
    "# columns used \n",
    "columns = ['latitude', 'longitude', 'room_type', 'accommodates','neighbourhood_cleansed',\n",
    "          'bedrooms','beds','price','review_scores_rating']\n",
    "\n",
    "airbnb = airbnb[columns]\n",
    "airbnb.head()"
   ]
  },
  {
   "cell_type": "code",
   "execution_count": 6,
   "id": "59350c8a",
   "metadata": {},
   "outputs": [],
   "source": [
    "# donwload the latest version of artifact raw_data.csv\n",
    "artifact = run.use_artifact(\"airbnb/raw_data.csv:latest\")\n",
    "\n",
    "# create a dataframe from the artifact\n",
    "airbnb = pd.read_csv(artifact.file())"
   ]
  },
  {
   "cell_type": "code",
   "execution_count": 7,
   "id": "3d93faf3",
   "metadata": {},
   "outputs": [
    {
     "name": "stdout",
     "output_type": "stream",
     "text": [
      "      id                         listing_url       scrape_id last_scraped  \\\n",
      "0  17878  https://www.airbnb.com/rooms/17878  20211224070558   2021-12-25   \n",
      "1  24480  https://www.airbnb.com/rooms/24480  20211224070558   2021-12-25   \n",
      "2  25026  https://www.airbnb.com/rooms/25026  20211224070558   2021-12-25   \n",
      "3  35636  https://www.airbnb.com/rooms/35636  20211224070558   2021-12-26   \n",
      "4  35764  https://www.airbnb.com/rooms/35764  20211224070558   2021-12-25   \n",
      "\n",
      "                                                name  \\\n",
      "0  Very Nice 2Br in Copacabana w. balcony, fast WiFi   \n",
      "1   Nice and cozy near Ipanema Beach, w/ home office   \n",
      "2          Beautiful Modern Decorated Studio in Copa   \n",
      "3                   Cosy flat close to Ipanema beach   \n",
      "4     COPACABANA SEA BREEZE  -  RIO - 20 X Superhost   \n",
      "\n",
      "                                         description  \\\n",
      "0  Discounts for long term stays. <br />- Large b...   \n",
      "1  My studio is located in the best of Ipanema, t...   \n",
      "2  Our apartment is a little gem, everyone loves ...   \n",
      "3  This cosy apartment  is just a few steps away ...   \n",
      "4  Our newly renovated studio is located in the b...   \n",
      "\n",
      "                               neighborhood_overview  \\\n",
      "0  This is the one of the bests spots in Rio. Bec...   \n",
      "1  The beach, the lagoon, Ipanema is a great loca...   \n",
      "2  Copacabana is a lively neighborhood and the ap...   \n",
      "3  The  apartment street is very quiet and safe ....   \n",
      "4  Our guests will experience living with a local...   \n",
      "\n",
      "                                         picture_url  host_id  \\\n",
      "0  https://a0.muscache.com/pictures/65320518/3069...    68997   \n",
      "1  https://a0.muscache.com/pictures/11955612/b28e...    99249   \n",
      "2  https://a0.muscache.com/pictures/3003965/68ebb...   102840   \n",
      "3  https://a0.muscache.com/pictures/20009355/38b6...   153232   \n",
      "4  https://a0.muscache.com/pictures/23782972/1d3e...   153691   \n",
      "\n",
      "                                   host_url  ... review_scores_communication  \\\n",
      "0   https://www.airbnb.com/users/show/68997  ...                        4.90   \n",
      "1   https://www.airbnb.com/users/show/99249  ...                        4.90   \n",
      "2  https://www.airbnb.com/users/show/102840  ...                        4.90   \n",
      "3  https://www.airbnb.com/users/show/153232  ...                        4.88   \n",
      "4  https://www.airbnb.com/users/show/153691  ...                        4.94   \n",
      "\n",
      "  review_scores_location review_scores_value license instant_bookable  \\\n",
      "0                   4.76                4.66     NaN                f   \n",
      "1                   4.97                4.58     NaN                f   \n",
      "2                   4.81                4.56     NaN                f   \n",
      "3                   4.90                4.65     NaN                f   \n",
      "4                   4.94                4.87     NaN                f   \n",
      "\n",
      "  calculated_host_listings_count calculated_host_listings_count_entire_homes  \\\n",
      "0                              1                                           1   \n",
      "1                              1                                           1   \n",
      "2                              1                                           1   \n",
      "3                              1                                           1   \n",
      "4                              1                                           1   \n",
      "\n",
      "  calculated_host_listings_count_private_rooms  \\\n",
      "0                                            0   \n",
      "1                                            0   \n",
      "2                                            0   \n",
      "3                                            0   \n",
      "4                                            0   \n",
      "\n",
      "  calculated_host_listings_count_shared_rooms reviews_per_month  \n",
      "0                                           0              1.92  \n",
      "1                                           0              0.62  \n",
      "2                                           0              1.69  \n",
      "3                                           0              1.82  \n",
      "4                                           0              2.76  \n",
      "\n",
      "[5 rows x 74 columns]"
     ]
    }
   ],
   "source": [
    "airbnb.head()"
   ]
  },
  {
   "cell_type": "code",
   "execution_count": 8,
   "id": "8a3cf70c",
   "metadata": {},
   "outputs": [
    {
     "name": "stdout",
     "output_type": "stream",
     "text": [
      "   latitude  longitude        room_type  accommodates neighbourhood_cleansed  \\\n",
      "0 -22.96599  -43.17940  Entire home/apt             5             Copacabana   \n",
      "1 -22.98405  -43.20189  Entire home/apt             2                Ipanema   \n",
      "2 -22.97735  -43.19105  Entire home/apt             3             Copacabana   \n",
      "3 -22.98839  -43.19232  Entire home/apt             2                Ipanema   \n",
      "4 -22.98107  -43.19136  Entire home/apt             2             Copacabana   \n",
      "\n",
      "   bedrooms  beds    price  review_scores_rating  \n",
      "0       2.0   2.0  $350.00                  4.68  \n",
      "1       1.0   1.0  $296.00                  4.73  \n",
      "2       1.0   1.0  $387.00                  4.68  \n",
      "3       1.0   1.0  $172.00                  4.72  \n",
      "4       1.0   1.0  $260.00                  4.89  "
     ]
    }
   ],
   "source": [
    "# columns used \n",
    "columns = ['latitude', 'longitude', 'room_type', 'accommodates','neighbourhood_cleansed',\n",
    "          'bedrooms','beds','price','review_scores_rating']\n",
    "\n",
    "airbnb = airbnb[columns]\n",
    "airbnb.head()"
   ]
  },
  {
   "cell_type": "code",
   "execution_count": 9,
   "id": "8de33e69",
   "metadata": {},
   "outputs": [],
   "source": [
    "airbnb['price'] = airbnb['price'].str.replace('$', '')\n",
    "airbnb['price'] = airbnb['price'].str.replace(',', '')\n",
    "airbnb['price'] = airbnb['price'].astype('float')\n",
    "airbnb['price'] = airbnb['price'].drop(airbnb[(airbnb.price < 1) | (airbnb.price > 5000)].index)\n",
    "airbnb = airbnb.dropna(axis=0)"
   ]
  },
  {
   "cell_type": "code",
   "execution_count": 10,
   "id": "879d6cad",
   "metadata": {},
   "outputs": [
    {
     "name": "stdout",
     "output_type": "stream",
     "text": [
      "2"
     ]
    }
   ],
   "source": [
    "# There are duplicated rows\n",
    "airbnb.duplicated().sum()"
   ]
  },
  {
   "cell_type": "code",
   "execution_count": 11,
   "id": "b1912a18",
   "metadata": {},
   "outputs": [
    {
     "name": "stdout",
     "output_type": "stream",
     "text": [
      "0"
     ]
    }
   ],
   "source": [
    "# Delete duplicated rows\n",
    "airbnb.drop_duplicates(inplace=True)\n",
    "airbnb.duplicated().sum()"
   ]
  },
  {
   "cell_type": "code",
   "execution_count": 12,
   "id": "ebccbdbe",
   "metadata": {},
   "outputs": [],
   "source": [
    "columns = ['room_type','accommodates','neighbourhood_cleansed','bedrooms','beds','price']\n",
    "\n",
    "airbnb = airbnb[columns]"
   ]
  },
  {
   "cell_type": "code",
   "execution_count": 13,
   "id": "2be2eeee",
   "metadata": {},
   "outputs": [],
   "source": [
    "airbnb.info()"
   ]
  },
  {
   "cell_type": "code",
   "execution_count": 14,
   "id": "4ad680fc",
   "metadata": {},
   "outputs": [
    {
     "name": "stdout",
     "output_type": "stream",
     "text": [
      "       accommodates      bedrooms          beds         price\n",
      "count  14219.000000  14219.000000  14219.000000  14219.000000\n",
      "mean       4.080385      1.609115      2.592376    631.172938\n",
      "std        2.306899      0.946355      2.048014    662.722128\n",
      "min        1.000000      1.000000      1.000000     33.000000\n",
      "25%        2.000000      1.000000      1.000000    231.000000\n",
      "50%        4.000000      1.000000      2.000000    425.000000\n",
      "75%        5.000000      2.000000      3.000000    786.000000\n",
      "max       16.000000     20.000000     50.000000   5000.000000"
     ]
    }
   ],
   "source": [
    "airbnb.describe()"
   ]
  },
  {
   "cell_type": "code",
   "execution_count": 15,
   "id": "3d4adf83",
   "metadata": {},
   "outputs": [
    {
     "name": "stdout",
     "output_type": "stream",
     "text": [
      "       accommodates      bedrooms          beds         price\n",
      "count  13962.000000  14212.000000  14186.000000  14219.000000\n",
      "mean       3.901733      1.602308      2.546031    631.172938\n",
      "std        1.894639      0.892279      1.755809    662.722128\n",
      "min        1.000000      1.000000      1.000000     33.000000\n",
      "25%        2.000000      1.000000      1.000000    231.000000\n",
      "50%        4.000000      1.000000      2.000000    425.000000\n",
      "75%        5.000000      2.000000      3.000000    786.000000\n",
      "max       10.000000     10.000000     15.000000   5000.000000"
     ]
    }
   ],
   "source": [
    "airbnb['accommodates'] = airbnb['accommodates'].drop(airbnb[(airbnb.accommodates < 1) | (airbnb.accommodates > 10)].index)\n",
    "airbnb['bedrooms'] = airbnb['bedrooms'].drop(airbnb[(airbnb.bedrooms < 1) | (airbnb.bedrooms > 10)].index)\n",
    "airbnb['beds'] = airbnb['beds'].drop(airbnb[(airbnb.beds < 1) | (airbnb.beds > 15)].index)\n",
    "airbnb.describe()"
   ]
  },
  {
   "cell_type": "code",
   "execution_count": 16,
   "id": "36fa46c3",
   "metadata": {},
   "outputs": [],
   "source": [
    "airbnb = airbnb.dropna()"
   ]
  },
  {
   "cell_type": "code",
   "execution_count": 17,
   "id": "fae8812f",
   "metadata": {},
   "outputs": [
    {
     "name": "stdout",
     "output_type": "stream",
     "text": [
      "room_type                 0\n",
      "accommodates              0\n",
      "neighbourhood_cleansed    0\n",
      "bedrooms                  0\n",
      "beds                      0\n",
      "price                     0\n",
      "dtype: int64"
     ]
    }
   ],
   "source": [
    "airbnb.isnull().sum()"
   ]
  },
  {
   "cell_type": "code",
   "execution_count": 18,
   "id": "3f181b6e",
   "metadata": {},
   "outputs": [],
   "source": [
    "splits = {}\n",
    "splits[\"train\"], splits[\"test\"] = train_test_split(airbnb,\n",
    "                                                   test_size=0.30,\n",
    "                                                   random_state=41)"
   ]
  },
  {
   "cell_type": "code",
   "execution_count": 19,
   "id": "f60b11d3",
   "metadata": {},
   "outputs": [],
   "source": [
    "# Save the artifacts. We use a temporary directory so we do not leave\n",
    "# any trace behind\n",
    "\n",
    "with tempfile.TemporaryDirectory() as tmp_dir:\n",
    "\n",
    "    for split, df in splits.items():\n",
    "\n",
    "        # Make the artifact name from the provided root plus the name of the split\n",
    "        artifact_name = f\"data_{split}.csv\"\n",
    "\n",
    "        # Get the path on disk within the temp directory\n",
    "        temp_path = os.path.join(tmp_dir, artifact_name)\n",
    "\n",
    "        # Save then upload to W&B\n",
    "        df.to_csv(temp_path,index=False)\n",
    "\n",
    "        artifact = wandb.Artifact(\n",
    "            name=artifact_name,\n",
    "            type=\"raw_data\",\n",
    "            description=f\"{split} split of dataset airbnb/raw_data.csv:latest\",\n",
    "        )\n",
    "        artifact.add_file(temp_path)\n",
    "\n",
    "        run.log_artifact(artifact)\n",
    "\n",
    "        # This waits for the artifact to be uploaded to W&B. If you\n",
    "        # do not add this, the temp directory might be removed before\n",
    "        # W&B had a chance to upload the datasets, and the upload\n",
    "        # might fail\n",
    "        artifact.wait()"
   ]
  },
  {
   "cell_type": "code",
   "execution_count": 20,
   "id": "54423d81",
   "metadata": {},
   "outputs": [],
   "source": [
    "# donwload the latest version of artifacts data_test.csv and data_train.csv\n",
    "artifact_train = run.use_artifact(\"airbnb/data_train.csv:latest\")\n",
    "artifact_test = run.use_artifact(\"airbnb/data_test.csv:latest\")\n",
    "\n",
    "# create a dataframe from each artifact\n",
    "df_train = pd.read_csv(artifact_train.file())\n",
    "df_test  = pd.read_csv(artifact_test.file())"
   ]
  },
  {
   "cell_type": "code",
   "execution_count": 21,
   "id": "8d3fc73a",
   "metadata": {},
   "outputs": [],
   "source": [
    "print(\"Train: {}\".format(df_train.shape))\n",
    "print(\"Test: {}\".format(df_test.shape))"
   ]
  },
  {
   "cell_type": "code",
   "execution_count": 22,
   "id": "589f5a15",
   "metadata": {},
   "outputs": [],
   "source": [
    "run.finish()"
   ]
  }
 ],
 "metadata": {
  "kernelspec": {
   "display_name": "Python 3",
   "language": "python",
   "name": "python3"
  },
  "language_info": {
   "codemirror_mode": {
    "name": "ipython",
    "version": 3
   },
   "file_extension": ".py",
   "mimetype": "text/x-python",
   "name": "python",
   "nbconvert_exporter": "python",
   "pygments_lexer": "ipython3",
   "version": "3.8.13"
  }
 },
 "nbformat": 4,
 "nbformat_minor": 5
}
